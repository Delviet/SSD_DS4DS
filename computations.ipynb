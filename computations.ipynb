{
 "cells": [
  {
   "cell_type": "code",
   "execution_count": 6,
   "metadata": {},
   "outputs": [],
   "source": [
    "from abc import ABC, abstractmethod\n",
    "\n",
    "class Operation(ABC):\n",
    "    \n",
    "    def __init__(self, weight = None):\n",
    "        self.weight = weight\n",
    "        \n",
    "    @abstractmethod\n",
    "    def operate(self, data, weight2 = None):\n",
    "        pass\n",
    "    \n",
    "class DotProduct(Operation):\n",
    "    \n",
    "    def __init__(self, weight):\n",
    "        super().__init__(weight)\n",
    "        \n",
    "    def operate(self, data, weight2 = None):\n",
    "        return (data * self.weight).sum()\n",
    "    \n",
    "class Addition(Operation):\n",
    "    \n",
    "    def __init__(self, weight = None):\n",
    "        super().__init__(weight)\n",
    "        \n",
    "    def operate(self, data, weight2 = None):\n",
    "        return data + self.weight"
   ]
  },
  {
   "cell_type": "code",
   "execution_count": 10,
   "metadata": {},
   "outputs": [],
   "source": [
    "import numpy as np\n",
    "\n",
    "add = Addition(5)\n",
    "dp = DotProduct(np.ones(5))"
   ]
  },
  {
   "cell_type": "code",
   "execution_count": 9,
   "metadata": {},
   "outputs": [
    {
     "data": {
      "text/plain": [
       "15"
      ]
     },
     "execution_count": 9,
     "metadata": {},
     "output_type": "execute_result"
    }
   ],
   "source": [
    "add.operate(10)"
   ]
  },
  {
   "cell_type": "code",
   "execution_count": 13,
   "metadata": {},
   "outputs": [
    {
     "data": {
      "text/plain": [
       "15.0"
      ]
     },
     "execution_count": 13,
     "metadata": {},
     "output_type": "execute_result"
    }
   ],
   "source": [
    "add.operate(dp.operate(np.arange(5)))"
   ]
  },
  {
   "cell_type": "code",
   "execution_count": null,
   "metadata": {},
   "outputs": [],
   "source": []
  }
 ],
 "metadata": {
  "kernelspec": {
   "display_name": "Python 3",
   "language": "python",
   "name": "python3"
  },
  "language_info": {
   "codemirror_mode": {
    "name": "ipython",
    "version": 3
   },
   "file_extension": ".py",
   "mimetype": "text/x-python",
   "name": "python",
   "nbconvert_exporter": "python",
   "pygments_lexer": "ipython3",
   "version": "3.8.5"
  }
 },
 "nbformat": 4,
 "nbformat_minor": 4
}
