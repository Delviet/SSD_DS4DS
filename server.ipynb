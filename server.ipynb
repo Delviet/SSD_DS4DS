{
 "cells": [
  {
   "cell_type": "code",
   "execution_count": 1,
   "metadata": {},
   "outputs": [],
   "source": [
    "import rpyc"
   ]
  },
  {
   "cell_type": "code",
   "execution_count": 2,
   "metadata": {},
   "outputs": [],
   "source": [
    "class ProcessingService(rpyc.Service):\n",
    "    \n",
    "    def on_connect(self, conn):\n",
    "        pass\n",
    "    \n",
    "    def on_disconnect(self, conn):\n",
    "        pass\n",
    "    \n",
    "    def exposed_process(self, data, weight = 10):\n",
    "        new_array = [i * weight for i in data]\n",
    "        print(new_array)\n",
    "        return new_array"
   ]
  },
  {
   "cell_type": "code",
   "execution_count": null,
   "metadata": {},
   "outputs": [],
   "source": [
    "if __name__ == \"__main__\":\n",
    "    from rpyc.utils.server import ThreadedServer\n",
    "    t = ThreadedServer(ProcessingService, port=18861)\n",
    "    t.start()"
   ]
  }
 ],
 "metadata": {
  "kernelspec": {
   "display_name": "Python 3",
   "language": "python",
   "name": "python3"
  },
  "language_info": {
   "codemirror_mode": {
    "name": "ipython",
    "version": 3
   },
   "file_extension": ".py",
   "mimetype": "text/x-python",
   "name": "python",
   "nbconvert_exporter": "python",
   "pygments_lexer": "ipython3",
   "version": "3.8.5"
  }
 },
 "nbformat": 4,
 "nbformat_minor": 4
}
