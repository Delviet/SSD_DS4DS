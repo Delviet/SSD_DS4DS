{
 "cells": [
  {
   "cell_type": "code",
   "execution_count": 28,
   "metadata": {},
   "outputs": [],
   "source": [
    "import rpyc"
   ]
  },
  {
   "cell_type": "code",
   "execution_count": 29,
   "metadata": {},
   "outputs": [
    {
     "data": {
      "text/plain": [
       "<__main__.ComputingService object at 0x7f92b557bd60>"
      ]
     },
     "execution_count": 29,
     "metadata": {},
     "output_type": "execute_result"
    }
   ],
   "source": [
    "c = rpyc.connect(\"localhost\", 18861)\n",
    "c.root"
   ]
  },
  {
   "cell_type": "code",
   "execution_count": 30,
   "metadata": {},
   "outputs": [
    {
     "data": {
      "text/plain": [
       "[100, 100]"
      ]
     },
     "execution_count": 30,
     "metadata": {},
     "output_type": "execute_result"
    }
   ],
   "source": [
    "c.root.perform_multiplication([10, 10])"
   ]
  },
  {
   "cell_type": "code",
   "execution_count": 31,
   "metadata": {},
   "outputs": [],
   "source": [
    "c.close()"
   ]
  },
  {
   "cell_type": "code",
   "execution_count": null,
   "metadata": {},
   "outputs": [],
   "source": []
  },
  {
   "cell_type": "code",
   "execution_count": null,
   "metadata": {},
   "outputs": [],
   "source": []
  },
  {
   "cell_type": "code",
   "execution_count": null,
   "metadata": {},
   "outputs": [],
   "source": []
  },
  {
   "cell_type": "code",
   "execution_count": null,
   "metadata": {},
   "outputs": [],
   "source": [
    "from computer_utils import SimpleSplitter, SimpleMerger\n",
    "from multiprocessing import Queue\n",
    "\n",
    "class Overseer:\n",
    "    \n",
    "    def __init__(self, connection):\n",
    "        self.c = connection\n",
    "    \n",
    "    def start(self, queue, weight, res_dict):\n",
    "        while not(queue.empty()):\n",
    "            \n",
    "\n",
    "class Computer:\n",
    "    \n",
    "    def __init__(self, data, weight):\n",
    "        self.data = data\n",
    "        self.object_queue = Queue()\n",
    "        self.weight = weight\n",
    "        \n",
    "        self.conns = {}\n",
    "        \n",
    "#         self.pinger = SimplePinger(self.conns)\n",
    "        self.splitter = SimpleSplitter()\n",
    "        self.merger = SimpleMerger()\n",
    "        \n",
    "    def add_connection(self, ip = 'localhost', port = 18861):\n",
    "        self.conns[f'{ip}:{port}'] = rpyc.connect(ip, port)\n",
    "        \n",
    "    def process(self):\n",
    "        queue = Queue()\n",
    "        self.splitter.split(self.data, queue)\n",
    "        while "
   ]
  }
 ],
 "metadata": {
  "kernelspec": {
   "display_name": "Python 3",
   "language": "python",
   "name": "python3"
  },
  "language_info": {
   "codemirror_mode": {
    "name": "ipython",
    "version": 3
   },
   "file_extension": ".py",
   "mimetype": "text/x-python",
   "name": "python",
   "nbconvert_exporter": "python",
   "pygments_lexer": "ipython3",
   "version": "3.8.5"
  }
 },
 "nbformat": 4,
 "nbformat_minor": 4
}
