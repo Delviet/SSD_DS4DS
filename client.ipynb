{
 "cells": [
  {
   "cell_type": "code",
   "execution_count": 1,
   "metadata": {},
   "outputs": [],
   "source": [
    "import rpyc\n",
    "import numpy as np"
   ]
  },
  {
   "cell_type": "code",
   "execution_count": 2,
   "metadata": {},
   "outputs": [
    {
     "data": {
      "text/plain": [
       "<__main__.ProcessingService object at 0x7f1da3b3ed00>"
      ]
     },
     "execution_count": 2,
     "metadata": {},
     "output_type": "execute_result"
    }
   ],
   "source": [
    "c = rpyc.connect(\"localhost\", 18861)\n",
    "c.root"
   ]
  },
  {
   "cell_type": "code",
   "execution_count": 4,
   "metadata": {},
   "outputs": [
    {
     "data": {
      "text/plain": [
       "[100, 100]"
      ]
     },
     "execution_count": 4,
     "metadata": {},
     "output_type": "execute_result"
    }
   ],
   "source": [
    "c.root.process([10, 10])"
   ]
  },
  {
   "cell_type": "code",
   "execution_count": 5,
   "metadata": {},
   "outputs": [],
   "source": [
    "c.close()"
   ]
  },
  {
   "cell_type": "code",
   "execution_count": null,
   "metadata": {},
   "outputs": [],
   "source": []
  },
  {
   "cell_type": "code",
   "execution_count": 2,
   "metadata": {},
   "outputs": [],
   "source": [
    "import torch.nn as nn\n",
    "import torch.nn.functional as F\n",
    "\n",
    "class Net(nn.Module):\n",
    "    def __init__(self):\n",
    "        super(Net, self).__init__()\n",
    "        self.fc1 = nn.Linear(784, 50)\n",
    "        self.fc2 = nn.Linear(50, 10)\n",
    "\n",
    "    def forward(self, x):\n",
    "        x = F.relu(self.fc1(x))\n",
    "        x = self.fc2(x)\n",
    "        return F.log_softmax(x)"
   ]
  },
  {
   "cell_type": "code",
   "execution_count": null,
   "metadata": {},
   "outputs": [],
   "source": []
  },
  {
   "cell_type": "code",
   "execution_count": 6,
   "metadata": {},
   "outputs": [
    {
     "name": "stdout",
     "output_type": "stream",
     "text": [
      "Stack!\n",
      "Stack!\n",
      "Stack!\n",
      "Stack!\n",
      "Stack!\n",
      "Stack!\n",
      "Resulting data:\n",
      "[[4.38180807e-04 2.16057778e-12 4.38012854e-02 6.86038996e-01\n",
      "  1.79831414e-11 3.68350047e-02 2.05820696e-07 3.02527847e-10\n",
      "  2.32886321e-01 5.75566192e-09]]\n"
     ]
    }
   ],
   "source": [
    "import rpyc\n",
    "import numpy as np\n",
    "from computer_utils import SimpleSplitter, SimpleMerger, Overseer\n",
    "from multiprocessing import Queue, Manager, Process\n",
    "import torch\n",
    "\n",
    "rpyc.core.protocol.DEFAULT_CONFIG['allow_pickle'] = True\n",
    "\n",
    "\n",
    "class Computer:\n",
    "    \n",
    "    class Specification:\n",
    "        \n",
    "        def __init__(self, weight, splitter_mode, op_name, merge_ax):\n",
    "            self.weight = weight\n",
    "            self.splitter_mode = splitter_mode\n",
    "            self.op_name = op_name\n",
    "            self.merge_ax = merge_ax\n",
    "    \n",
    "    def __init__(self, data, path):\n",
    "        self.data = data\n",
    "        self.object_queue = Queue()\n",
    "        self.model = torch.load(path)\n",
    "        \n",
    "        self.specs = [\n",
    "            self.Specification(\n",
    "                weight = self.model.fc1.weight.detach().numpy(),\n",
    "                splitter_mode = 'weight',\n",
    "                op_name = 'DotProduct',\n",
    "                merge_ax = 0\n",
    "            ), \n",
    "            self.Specification(\n",
    "                weight = self.model.fc1.bias.detach().numpy(),\n",
    "                splitter_mode = 'both',\n",
    "                op_name = 'Addition',\n",
    "                merge_ax = 0\n",
    "            ),\n",
    "            self.Specification(\n",
    "                weight = None,\n",
    "                splitter_mode = 'data',\n",
    "                op_name = 'ReLu',\n",
    "                merge_ax = 0\n",
    "            ),\n",
    "            self.Specification(\n",
    "                weight = self.model.fc2.weight.detach().numpy(),\n",
    "                splitter_mode = 'weight',\n",
    "                op_name = 'DotProduct',\n",
    "                merge_ax = 0\n",
    "            ), \n",
    "            self.Specification(\n",
    "                weight = self.model.fc2.bias.detach().numpy(),\n",
    "                splitter_mode = 'both',\n",
    "                op_name = 'Addition',\n",
    "                merge_ax = 0\n",
    "            ),\n",
    "            self.Specification(\n",
    "                weight = np.array([[0]]),\n",
    "                splitter_mode = 'weight',\n",
    "                op_name = 'SoftMax',\n",
    "                merge_ax = 0\n",
    "            ),\n",
    "        ] \n",
    "        \n",
    "        self.op_names = []\n",
    "        self.model.eval()\n",
    "        \n",
    "        self.conns = {}\n",
    "        \n",
    "        self.splitter = SimpleSplitter()\n",
    "        self.merger = SimpleMerger()\n",
    "        \n",
    "    def add_connection(self, ip = 'localhost', port = 18861):\n",
    "        self.conns[f'{ip}:{port}'] = rpyc.connect(ip, port)\n",
    "        \n",
    "    def compute(self):\n",
    "        for spec in self.specs:\n",
    "            # creating a queue for data storage\n",
    "            queue = Queue()\n",
    "            sample_num = self.splitter.split(self.data, spec.weight, queue, mode = spec.splitter_mode)\n",
    "            \n",
    "            # creating Overseers for the Processors\n",
    "            self.ovs = [Overseer(conn, spec.op_name) for conn in self.conns.values()]\n",
    "            \n",
    "            # Manager for the shared resources\n",
    "            manager = Manager()\n",
    "            res = manager.dict()\n",
    "            # initializing task completeness list\n",
    "            shared_status = manager.list([0] * sample_num)\n",
    "            \n",
    "            # created added task list to the Overseer\n",
    "            processes = [Process(target=O.put, args = (queue, res, shared_status)) for O in self.ovs]\n",
    "            [p.start() for p in processes]\n",
    "            [p.join() for p in processes]\n",
    "            \n",
    "            # merging the resuts \n",
    "            self.data = self.merger.merge(res, axis = spec.merge_ax)\n",
    "        \n",
    "        # closing connections\n",
    "        for c in self.conns.values():\n",
    "            c.close()\n",
    "        \n",
    "        return self.data\n",
    "    \n",
    "if __name__ == \"__main__\":\n",
    "    data = np.ones((1, 784))\n",
    "    cmp = Computer(data, 'model.pth')\n",
    "    cmp.add_connection()\n",
    "    cmp.add_connection(port = 12258)\n",
    "    q = cmp.compute()\n",
    "    print('Resulting data:', q, sep = '\\n')"
   ]
  },
  {
   "cell_type": "code",
   "execution_count": 4,
   "metadata": {},
   "outputs": [
    {
     "data": {
      "text/plain": [
       "array([[4.38180807e-04, 2.16057778e-12, 4.38012854e-02, 6.86038996e-01,\n",
       "        1.79831414e-11, 3.68350047e-02, 2.05820696e-07, 3.02527847e-10,\n",
       "        2.32886321e-01, 5.75566192e-09]])"
      ]
     },
     "execution_count": 4,
     "metadata": {},
     "output_type": "execute_result"
    }
   ],
   "source": [
    "q"
   ]
  },
  {
   "cell_type": "code",
   "execution_count": 15,
   "metadata": {},
   "outputs": [
    {
     "data": {
      "text/plain": [
       "tensor([[ 4.1781,  6.7648, -2.9683,  6.1687,  3.4663,  0.9767,  0.6334, -0.0778,\n",
       "          0.0219,  6.3792,  7.0007, -2.3949,  1.8431, -1.2723,  4.8371,  3.7381,\n",
       "          3.0966,  0.5337, -0.0786, -2.5660, -5.8470,  2.5215,  1.5484,  2.8317,\n",
       "          2.2553, -2.8291,  0.8447,  2.5690,  3.1215, -1.9210, -0.3486,  1.2491,\n",
       "          5.9591,  4.0934,  3.4655,  8.0855,  4.9449, -3.3025,  2.2341, -0.6910,\n",
       "         -0.8201,  5.1374,  8.6047,  4.6303, -3.5164,  6.0302,  3.7816,  4.2053,\n",
       "         -0.9560,  2.1111]], grad_fn=<AddmmBackward>)"
      ]
     },
     "execution_count": 15,
     "metadata": {},
     "output_type": "execute_result"
    }
   ],
   "source": [
    "model = torch.load('model.pth')\n",
    "model.eval()\n",
    "model.fc1(torch.ones((1, 784), requires_grad = False))"
   ]
  },
  {
   "cell_type": "code",
   "execution_count": 12,
   "metadata": {},
   "outputs": [],
   "source": [
    "weights = model.fc1.weight.detach()\n",
    "data = torch.ones((1, 784))"
   ]
  },
  {
   "cell_type": "code",
   "execution_count": 17,
   "metadata": {},
   "outputs": [
    {
     "data": {
      "text/plain": [
       "Parameter containing:\n",
       "tensor([-0.1251,  0.1645, -0.0103,  0.0858,  0.2245, -0.0058,  0.1645,  0.0218,\n",
       "         0.1902,  0.0668, -0.0794, -0.1141, -0.1522, -0.0211,  0.0174, -0.1217,\n",
       "        -0.0869,  0.0286, -0.0041,  0.1410,  0.1522,  0.1439,  0.0779,  0.0437,\n",
       "        -0.0465, -0.0324,  0.1304,  0.0986,  0.0846,  0.1418, -0.0851,  0.1867,\n",
       "        -0.0724,  0.1731, -0.0317, -0.0270,  0.0339,  0.1084, -0.0116,  0.0004,\n",
       "         0.0542, -0.0673, -0.0363,  0.0425,  0.0897,  0.0531,  0.1969,  0.0214,\n",
       "         0.0448, -0.0021], requires_grad=True)"
      ]
     },
     "execution_count": 17,
     "metadata": {},
     "output_type": "execute_result"
    }
   ],
   "source": [
    "model.fc1.bias"
   ]
  },
  {
   "cell_type": "code",
   "execution_count": 8,
   "metadata": {},
   "outputs": [
    {
     "data": {
      "text/plain": [
       "(784,)"
      ]
     },
     "execution_count": 8,
     "metadata": {},
     "output_type": "execute_result"
    }
   ],
   "source": [
    "q.get()[2].shape"
   ]
  },
  {
   "cell_type": "code",
   "execution_count": 2,
   "metadata": {},
   "outputs": [],
   "source": [
    "data = np.ones((2, 1))"
   ]
  },
  {
   "cell_type": "code",
   "execution_count": 3,
   "metadata": {},
   "outputs": [
    {
     "data": {
      "text/plain": [
       "array([[1.],\n",
       "       [1.]])"
      ]
     },
     "execution_count": 3,
     "metadata": {},
     "output_type": "execute_result"
    }
   ],
   "source": [
    "data"
   ]
  },
  {
   "cell_type": "code",
   "execution_count": 4,
   "metadata": {},
   "outputs": [],
   "source": [
    "cmp = Computer(data, 10)"
   ]
  },
  {
   "cell_type": "code",
   "execution_count": 5,
   "metadata": {},
   "outputs": [],
   "source": [
    "cmp.add_connection()"
   ]
  },
  {
   "cell_type": "code",
   "execution_count": 6,
   "metadata": {},
   "outputs": [
    {
     "ename": "TypeError",
     "evalue": "put() missing 1 required positional argument: 'samples'",
     "output_type": "error",
     "traceback": [
      "\u001b[0;31m---------------------------------------------------------------------------\u001b[0m",
      "\u001b[0;31mTypeError\u001b[0m                                 Traceback (most recent call last)",
      "\u001b[0;32m<ipython-input-6-d0c2a6cce322>\u001b[0m in \u001b[0;36m<module>\u001b[0;34m\u001b[0m\n\u001b[0;32m----> 1\u001b[0;31m \u001b[0mcmp\u001b[0m\u001b[0;34m.\u001b[0m\u001b[0mprocess\u001b[0m\u001b[0;34m(\u001b[0m\u001b[0;34m)\u001b[0m\u001b[0;34m\u001b[0m\u001b[0;34m\u001b[0m\u001b[0m\n\u001b[0m",
      "\u001b[0;32m<ipython-input-1-8101f2ea595c>\u001b[0m in \u001b[0;36mprocess\u001b[0;34m(self)\u001b[0m\n\u001b[1;32m     26\u001b[0m         \u001b[0movs\u001b[0m \u001b[0;34m=\u001b[0m \u001b[0mOverseer\u001b[0m\u001b[0;34m(\u001b[0m\u001b[0mlist\u001b[0m\u001b[0;34m(\u001b[0m\u001b[0mself\u001b[0m\u001b[0;34m.\u001b[0m\u001b[0mconns\u001b[0m\u001b[0;34m.\u001b[0m\u001b[0mvalues\u001b[0m\u001b[0;34m(\u001b[0m\u001b[0;34m)\u001b[0m\u001b[0;34m)\u001b[0m\u001b[0;34m[\u001b[0m\u001b[0;36m0\u001b[0m\u001b[0;34m]\u001b[0m\u001b[0;34m)\u001b[0m\u001b[0;34m\u001b[0m\u001b[0;34m\u001b[0m\u001b[0m\n\u001b[1;32m     27\u001b[0m         \u001b[0mres\u001b[0m \u001b[0;34m=\u001b[0m \u001b[0;34m{\u001b[0m\u001b[0;34m}\u001b[0m\u001b[0;34m\u001b[0m\u001b[0;34m\u001b[0m\u001b[0m\n\u001b[0;32m---> 28\u001b[0;31m         \u001b[0mres\u001b[0m \u001b[0;34m=\u001b[0m \u001b[0movs\u001b[0m\u001b[0;34m.\u001b[0m\u001b[0mput\u001b[0m\u001b[0;34m(\u001b[0m\u001b[0mqueue\u001b[0m\u001b[0;34m,\u001b[0m \u001b[0mself\u001b[0m\u001b[0;34m.\u001b[0m\u001b[0mweight\u001b[0m\u001b[0;34m,\u001b[0m \u001b[0mres\u001b[0m\u001b[0;34m)\u001b[0m\u001b[0;34m\u001b[0m\u001b[0;34m\u001b[0m\u001b[0m\n\u001b[0m\u001b[1;32m     29\u001b[0m         \u001b[0mresult\u001b[0m \u001b[0;34m=\u001b[0m \u001b[0mself\u001b[0m\u001b[0;34m.\u001b[0m\u001b[0mmerger\u001b[0m\u001b[0;34m.\u001b[0m\u001b[0mmerge\u001b[0m\u001b[0;34m(\u001b[0m\u001b[0mres\u001b[0m\u001b[0;34m)\u001b[0m\u001b[0;34m\u001b[0m\u001b[0;34m\u001b[0m\u001b[0m\n\u001b[1;32m     30\u001b[0m \u001b[0;34m\u001b[0m\u001b[0m\n",
      "\u001b[0;31mTypeError\u001b[0m: put() missing 1 required positional argument: 'samples'"
     ]
    }
   ],
   "source": [
    "cmp.process()"
   ]
  },
  {
   "cell_type": "code",
   "execution_count": 10,
   "metadata": {},
   "outputs": [
    {
     "data": {
      "text/plain": [
       "2"
      ]
     },
     "execution_count": 10,
     "metadata": {},
     "output_type": "execute_result"
    }
   ],
   "source": [
    "len({1: 5, 2: 3}.items())"
   ]
  },
  {
   "cell_type": "code",
   "execution_count": null,
   "metadata": {},
   "outputs": [],
   "source": []
  }
 ],
 "metadata": {
  "kernelspec": {
   "display_name": "Python 3",
   "language": "python",
   "name": "python3"
  },
  "language_info": {
   "codemirror_mode": {
    "name": "ipython",
    "version": 3
   },
   "file_extension": ".py",
   "mimetype": "text/x-python",
   "name": "python",
   "nbconvert_exporter": "python",
   "pygments_lexer": "ipython3",
   "version": "3.8.5"
  }
 },
 "nbformat": 4,
 "nbformat_minor": 4
}
