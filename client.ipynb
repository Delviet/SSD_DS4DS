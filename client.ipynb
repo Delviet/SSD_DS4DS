{
 "cells": [
  {
   "cell_type": "code",
   "execution_count": 1,
   "metadata": {},
   "outputs": [],
   "source": [
    "import rpyc\n",
    "import numpy as np"
   ]
  },
  {
   "cell_type": "code",
   "execution_count": 2,
   "metadata": {},
   "outputs": [
    {
     "data": {
      "text/plain": [
       "<__main__.ProcessingService object at 0x7f1da3b3ed00>"
      ]
     },
     "execution_count": 2,
     "metadata": {},
     "output_type": "execute_result"
    }
   ],
   "source": [
    "c = rpyc.connect(\"localhost\", 18861)\n",
    "c.root"
   ]
  },
  {
   "cell_type": "code",
   "execution_count": 4,
   "metadata": {},
   "outputs": [
    {
     "data": {
      "text/plain": [
       "[100, 100]"
      ]
     },
     "execution_count": 4,
     "metadata": {},
     "output_type": "execute_result"
    }
   ],
   "source": [
    "c.root.process([10, 10])"
   ]
  },
  {
   "cell_type": "code",
   "execution_count": 5,
   "metadata": {},
   "outputs": [],
   "source": [
    "c.close()"
   ]
  },
  {
   "cell_type": "code",
   "execution_count": null,
   "metadata": {},
   "outputs": [],
   "source": []
  },
  {
   "cell_type": "code",
   "execution_count": null,
   "metadata": {},
   "outputs": [],
   "source": []
  },
  {
   "cell_type": "code",
   "execution_count": null,
   "metadata": {},
   "outputs": [],
   "source": []
  },
  {
   "cell_type": "code",
   "execution_count": 2,
   "metadata": {},
   "outputs": [
    {
     "name": "stdout",
     "output_type": "stream",
     "text": [
      "Initial data:\n",
      "[[0]\n",
      " [1]\n",
      " [2]\n",
      " [3]]\n",
      "Resulting data:\n",
      "[[ 0]\n",
      " [10]\n",
      " [20]\n",
      " [30]]\n"
     ]
    }
   ],
   "source": [
    "import rpyc\n",
    "import numpy as np\n",
    "from computer_utils import SimpleSplitter, SimpleMerger, Overseer\n",
    "from multiprocessing import Queue, Manager\n",
    "\n",
    "rpyc.core.protocol.DEFAULT_CONFIG['allow_pickle'] = True\n",
    "\n",
    "\n",
    "class Computer:\n",
    "    \n",
    "    def __init__(self, data, weight):\n",
    "        self.data = data\n",
    "        self.object_queue = Queue()\n",
    "        self.weight = weight\n",
    "        \n",
    "        self.conns = {}\n",
    "        \n",
    "#         self.pinger = SimplePinger(self.conns)\n",
    "        self.splitter = SimpleSplitter()\n",
    "        self.merger = SimpleMerger()\n",
    "        \n",
    "    def add_connection(self, ip = 'localhost', port = 18861):\n",
    "        self.conns[f'{ip}:{port}'] = rpyc.connect(ip, port)\n",
    "        \n",
    "    def compute(self):\n",
    "        # creating a queue for data storage\n",
    "        queue = Queue()\n",
    "        sample_num = self.splitter.split(self.data, queue)\n",
    "        # creating Overseers for the Processors\n",
    "        ovs = Overseer(list(self.conns.values())[0])\n",
    "        # Manager for the shared resources\n",
    "        manager = Manager()\n",
    "        \n",
    "        res = manager.dict()\n",
    "        # initializing task completeness list\n",
    "        shared_status = manager.list([0] * sample_num)\n",
    "        # created added task list to the Overseer\n",
    "        res = ovs.put(queue, self.weight, res, shared_status)\n",
    "        # merging the resuts \n",
    "        result = self.merger.merge(res)\n",
    "        \n",
    "        # closing connections\n",
    "        for c in self.conns.values():\n",
    "            c.close()\n",
    "        \n",
    "        return result\n",
    "    \n",
    "if __name__ == \"__main__\":\n",
    "    data = np.arange(4).reshape(-1, 1)\n",
    "    print('Initial data:', data, sep = '\\n')\n",
    "    cmp = Computer(data, 10)\n",
    "    cmp.add_connection()\n",
    "    print('Resulting data:', cmp.compute(), sep = '\\n')"
   ]
  },
  {
   "cell_type": "markdown",
   "metadata": {},
   "source": [
    "```\n",
    "import rpyc\n",
    "import numpy as np\n",
    "from computer_utils import SimpleSplitter, SimpleMerger, Overseer\n",
    "from multiprocessing import Queue, Manager\n",
    "\n",
    "rpyc.core.protocol.DEFAULT_CONFIG['allow_pickle'] = True\n",
    "\n",
    "\n",
    "class Computer:\n",
    "    \n",
    "    def __init__(self, data, weight):\n",
    "        self.data = data\n",
    "        self.object_queue = Queue()\n",
    "        self.weight = weight\n",
    "        \n",
    "        self.conns = {}\n",
    "        \n",
    "#         self.pinger = SimplePinger(self.conns)\n",
    "        self.splitter = SimpleSplitter()\n",
    "        self.merger = SimpleMerger()\n",
    "        \n",
    "    def add_connection(self, ip = 'localhost', port = 18861):\n",
    "        self.conns[f'{ip}:{port}'] = rpyc.connect(ip, port)\n",
    "        \n",
    "    def compute(self):\n",
    "        # creating a queue for data storage\n",
    "        queue = Queue()\n",
    "        sample_num = self.splitter.split(self.data, queue)\n",
    "        # creating Overseers for the Processors\n",
    "        self.ovs = [Overseer(conn) for conn in self.conns.values()]\n",
    "        print(self.ovs)\n",
    "        return None\n",
    "        # Manager for the shared resources\n",
    "        manager = Manager()\n",
    "        \n",
    "        res = manager.dict()\n",
    "        # initializing task completeness list\n",
    "        shared_status = manager.list([0] * sample_num)\n",
    "        # created added task list to the Overseer\n",
    "        res = ovs.put(queue, self.weight, res, shared_status)\n",
    "        # merging the resuts\n",
    "        result = self.merger.merge(res)\n",
    "        \n",
    "        # closing connections\n",
    "        for c in self.conns:\n",
    "            c.close()\n",
    "        \n",
    "        return result\n",
    "    \n",
    "if __name__ == \"__main__\":\n",
    "    data = np.arange(4).reshape(-1, 1)\n",
    "    print('Initial data:', data, sep = '\\n')\n",
    "    cmp = Computer(data, 10)\n",
    "    cmp.add_connection()\n",
    "    print('Resulting data:', cmp.compute(), sep = '\\n')\n",
    "```"
   ]
  },
  {
   "cell_type": "code",
   "execution_count": 2,
   "metadata": {},
   "outputs": [],
   "source": [
    "data = np.ones((2, 1))"
   ]
  },
  {
   "cell_type": "code",
   "execution_count": 3,
   "metadata": {},
   "outputs": [
    {
     "data": {
      "text/plain": [
       "array([[1.],\n",
       "       [1.]])"
      ]
     },
     "execution_count": 3,
     "metadata": {},
     "output_type": "execute_result"
    }
   ],
   "source": [
    "data"
   ]
  },
  {
   "cell_type": "code",
   "execution_count": 4,
   "metadata": {},
   "outputs": [],
   "source": [
    "cmp = Computer(data, 10)"
   ]
  },
  {
   "cell_type": "code",
   "execution_count": 5,
   "metadata": {},
   "outputs": [],
   "source": [
    "cmp.add_connection()"
   ]
  },
  {
   "cell_type": "code",
   "execution_count": 6,
   "metadata": {},
   "outputs": [
    {
     "ename": "TypeError",
     "evalue": "put() missing 1 required positional argument: 'samples'",
     "output_type": "error",
     "traceback": [
      "\u001b[0;31m---------------------------------------------------------------------------\u001b[0m",
      "\u001b[0;31mTypeError\u001b[0m                                 Traceback (most recent call last)",
      "\u001b[0;32m<ipython-input-6-d0c2a6cce322>\u001b[0m in \u001b[0;36m<module>\u001b[0;34m\u001b[0m\n\u001b[0;32m----> 1\u001b[0;31m \u001b[0mcmp\u001b[0m\u001b[0;34m.\u001b[0m\u001b[0mprocess\u001b[0m\u001b[0;34m(\u001b[0m\u001b[0;34m)\u001b[0m\u001b[0;34m\u001b[0m\u001b[0;34m\u001b[0m\u001b[0m\n\u001b[0m",
      "\u001b[0;32m<ipython-input-1-8101f2ea595c>\u001b[0m in \u001b[0;36mprocess\u001b[0;34m(self)\u001b[0m\n\u001b[1;32m     26\u001b[0m         \u001b[0movs\u001b[0m \u001b[0;34m=\u001b[0m \u001b[0mOverseer\u001b[0m\u001b[0;34m(\u001b[0m\u001b[0mlist\u001b[0m\u001b[0;34m(\u001b[0m\u001b[0mself\u001b[0m\u001b[0;34m.\u001b[0m\u001b[0mconns\u001b[0m\u001b[0;34m.\u001b[0m\u001b[0mvalues\u001b[0m\u001b[0;34m(\u001b[0m\u001b[0;34m)\u001b[0m\u001b[0;34m)\u001b[0m\u001b[0;34m[\u001b[0m\u001b[0;36m0\u001b[0m\u001b[0;34m]\u001b[0m\u001b[0;34m)\u001b[0m\u001b[0;34m\u001b[0m\u001b[0;34m\u001b[0m\u001b[0m\n\u001b[1;32m     27\u001b[0m         \u001b[0mres\u001b[0m \u001b[0;34m=\u001b[0m \u001b[0;34m{\u001b[0m\u001b[0;34m}\u001b[0m\u001b[0;34m\u001b[0m\u001b[0;34m\u001b[0m\u001b[0m\n\u001b[0;32m---> 28\u001b[0;31m         \u001b[0mres\u001b[0m \u001b[0;34m=\u001b[0m \u001b[0movs\u001b[0m\u001b[0;34m.\u001b[0m\u001b[0mput\u001b[0m\u001b[0;34m(\u001b[0m\u001b[0mqueue\u001b[0m\u001b[0;34m,\u001b[0m \u001b[0mself\u001b[0m\u001b[0;34m.\u001b[0m\u001b[0mweight\u001b[0m\u001b[0;34m,\u001b[0m \u001b[0mres\u001b[0m\u001b[0;34m)\u001b[0m\u001b[0;34m\u001b[0m\u001b[0;34m\u001b[0m\u001b[0m\n\u001b[0m\u001b[1;32m     29\u001b[0m         \u001b[0mresult\u001b[0m \u001b[0;34m=\u001b[0m \u001b[0mself\u001b[0m\u001b[0;34m.\u001b[0m\u001b[0mmerger\u001b[0m\u001b[0;34m.\u001b[0m\u001b[0mmerge\u001b[0m\u001b[0;34m(\u001b[0m\u001b[0mres\u001b[0m\u001b[0;34m)\u001b[0m\u001b[0;34m\u001b[0m\u001b[0;34m\u001b[0m\u001b[0m\n\u001b[1;32m     30\u001b[0m \u001b[0;34m\u001b[0m\u001b[0m\n",
      "\u001b[0;31mTypeError\u001b[0m: put() missing 1 required positional argument: 'samples'"
     ]
    }
   ],
   "source": [
    "cmp.process()"
   ]
  },
  {
   "cell_type": "code",
   "execution_count": 10,
   "metadata": {},
   "outputs": [
    {
     "data": {
      "text/plain": [
       "2"
      ]
     },
     "execution_count": 10,
     "metadata": {},
     "output_type": "execute_result"
    }
   ],
   "source": [
    "len({1: 5, 2: 3}.items())"
   ]
  },
  {
   "cell_type": "code",
   "execution_count": null,
   "metadata": {},
   "outputs": [],
   "source": []
  }
 ],
 "metadata": {
  "kernelspec": {
   "display_name": "Python 3",
   "language": "python",
   "name": "python3"
  },
  "language_info": {
   "codemirror_mode": {
    "name": "ipython",
    "version": 3
   },
   "file_extension": ".py",
   "mimetype": "text/x-python",
   "name": "python",
   "nbconvert_exporter": "python",
   "pygments_lexer": "ipython3",
   "version": "3.8.5"
  }
 },
 "nbformat": 4,
 "nbformat_minor": 4
}
